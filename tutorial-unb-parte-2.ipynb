{
 "cells": [
  {
   "cell_type": "code",
   "execution_count": 1,
   "id": "ac12607f",
   "metadata": {},
   "outputs": [],
   "source": [
    "import carla\n",
    "import random\n",
    "import re\n",
    "import time"
   ]
  },
  {
   "cell_type": "markdown",
   "id": "320cee8c",
   "metadata": {},
   "source": [
    "### Cliente"
   ]
  },
  {
   "cell_type": "code",
   "execution_count": 2,
   "id": "8c857ed1",
   "metadata": {},
   "outputs": [],
   "source": [
    "client = carla.Client('localhost', 2000)\n",
    "client.set_timeout(10.0)\n",
    "world = client.get_world()"
   ]
  },
  {
   "cell_type": "code",
   "execution_count": 3,
   "id": "73c03808",
   "metadata": {},
   "outputs": [
    {
     "name": "stdout",
     "output_type": "stream",
     "text": [
      "/Game/Carla/Maps/Town01\n",
      "/Game/Carla/Maps/Town01_Opt\n",
      "/Game/Carla/Maps/Town02\n",
      "/Game/Carla/Maps/Town02_Opt\n",
      "/Game/Carla/Maps/Town03\n",
      "/Game/Carla/Maps/Town03_Opt\n",
      "/Game/Carla/Maps/Town04\n",
      "/Game/Carla/Maps/Town04_Opt\n",
      "/Game/Carla/Maps/Town05\n",
      "/Game/Carla/Maps/Town05_Opt\n",
      "/Game/Carla/Maps/Town10HD\n",
      "/Game/Carla/Maps/Town10HD_Opt\n"
     ]
    },
    {
     "data": {
      "text/plain": [
       "'Carla/Maps/Town10HD_Opt'"
      ]
     },
     "execution_count": 3,
     "metadata": {},
     "output_type": "execute_result"
    }
   ],
   "source": [
    "# world.__dir__()\n",
    "for map_name in client.get_available_maps():\n",
    "    print(map_name)\n",
    "world.get_map().name"
   ]
  },
  {
   "cell_type": "code",
   "execution_count": 4,
   "id": "d96219b0",
   "metadata": {},
   "outputs": [],
   "source": [
    "# client.load_world('Town04')\n",
    "world = client.load_world(\"Town10HD_Opt\")"
   ]
  },
  {
   "cell_type": "code",
   "execution_count": 5,
   "id": "36639cc9",
   "metadata": {},
   "outputs": [
    {
     "name": "stdout",
     "output_type": "stream",
     "text": [
      "0 (<carla.libcarla.WeatherParameters object at 0x0000021BB3DF0ED0>, 'Clear Night')\n",
      "1 (<carla.libcarla.WeatherParameters object at 0x0000021BB3DF0420>, 'Clear Noon')\n",
      "2 (<carla.libcarla.WeatherParameters object at 0x0000021BB3DF0AE0>, 'Clear Sunset')\n",
      "3 (<carla.libcarla.WeatherParameters object at 0x0000021BB3DF0F60>, 'Cloudy Night')\n",
      "4 (<carla.libcarla.WeatherParameters object at 0x0000021BB3DF0780>, 'Cloudy Noon')\n",
      "5 (<carla.libcarla.WeatherParameters object at 0x0000021BB3DF0B70>, 'Cloudy Sunset')\n",
      "6 (<carla.libcarla.WeatherParameters object at 0x0000021BB3DF0660>, 'Default')\n",
      "7 (<carla.libcarla.WeatherParameters object at 0x0000021BB3E3D300>, 'Dust Storm')\n",
      "8 (<carla.libcarla.WeatherParameters object at 0x0000021BB3E3D270>, 'Hard Rain Night')\n",
      "9 (<carla.libcarla.WeatherParameters object at 0x0000021BB3DF09C0>, 'Hard Rain Noon')\n",
      "10 (<carla.libcarla.WeatherParameters object at 0x0000021BB3DF0DB0>, 'Hard Rain Sunset')\n"
     ]
    }
   ],
   "source": [
    "def find_weather_presets():\n",
    "    rgx = re.compile('.+?(?:(?<=[a-z])(?=[A-Z])|(?<=[A-Z])(?=[A-Z][a-z])|$)')\n",
    "    name = lambda x: ' '.join(m.group(0) for m in rgx.finditer(x))\n",
    "    presets = [x for x in dir(carla.WeatherParameters) if re.match('[A-Z].+', x)]\n",
    "    return [(getattr(carla.WeatherParameters, x), name(x)) for x in presets]\n",
    "\n",
    "presets = find_weather_presets()\n",
    "for idx, preset in enumerate(presets):\n",
    "    print(idx, preset)\n",
    "    if idx == 10:\n",
    "        break"
   ]
  },
  {
   "cell_type": "code",
   "execution_count": 6,
   "id": "8b151d28",
   "metadata": {},
   "outputs": [],
   "source": [
    "world.set_weather(presets[9][0])"
   ]
  },
  {
   "cell_type": "code",
   "execution_count": 7,
   "id": "9f0d87db",
   "metadata": {},
   "outputs": [
    {
     "name": "stdout",
     "output_type": "stream",
     "text": [
      "0 vehicle.audi.a2\n",
      "1 vehicle.nissan.micra\n",
      "2 vehicle.audi.tt\n",
      "3 vehicle.mercedes.coupe_2020\n",
      "4 vehicle.bmw.grandtourer\n",
      "5 vehicle.harley-davidson.low_rider\n",
      "6 vehicle.ford.ambulance\n",
      "7 vehicle.micro.microlino\n",
      "8 vehicle.carlamotors.firetruck\n",
      "9 vehicle.carlamotors.carlacola\n",
      "10 vehicle.carlamotors.european_hgv\n"
     ]
    }
   ],
   "source": [
    "# Pega a blueprint library and filtra só blueprints de carros\n",
    "vehicle_blueprints = world.get_blueprint_library().filter('*vehicle*')\n",
    "for idx, blueprint in enumerate(vehicle_blueprints):\n",
    "    print(idx, blueprint.id)\n",
    "    if idx == 10:\n",
    "        break"
   ]
  },
  {
   "cell_type": "markdown",
   "id": "2802f842",
   "metadata": {},
   "source": [
    "### Add vehicle to world"
   ]
  },
  {
   "cell_type": "code",
   "execution_count": 8,
   "id": "9fbfae4a",
   "metadata": {},
   "outputs": [
    {
     "data": {
      "text/plain": [
       "<carla.libcarla.Vehicle at 0x21bb3e4b5d0>"
      ]
     },
     "execution_count": 8,
     "metadata": {},
     "output_type": "execute_result"
    }
   ],
   "source": [
    "# Pega os spawn points do mapa\n",
    "spawn_points = world.get_map().get_spawn_points()\n",
    "# Tesla Cybertruck\n",
    "vehicle = world.try_spawn_actor(list(vehicle_blueprints)[30], random.choice(spawn_points))\n",
    "vehicle"
   ]
  },
  {
   "cell_type": "code",
   "execution_count": 9,
   "id": "43701e00",
   "metadata": {},
   "outputs": [],
   "source": [
    "vehicle_transform = vehicle.get_transform()\n",
    "world.get_spectator().set_transform(vehicle_transform)"
   ]
  },
  {
   "cell_type": "markdown",
   "id": "1e4eaa08",
   "metadata": {},
   "source": [
    "### Add sensors to car"
   ]
  },
  {
   "cell_type": "code",
   "execution_count": 10,
   "id": "ca71f256",
   "metadata": {},
   "outputs": [],
   "source": [
    "SENSOR_TICK = 3\n",
    "\n",
    "def get_cam_blueprint(world, vehicle_id):\n",
    "    cam_bp = world.get_blueprint_library().find('sensor.camera.rgb')\n",
    "    cam_bp.set_attribute(\"image_size_x\",str(400))\n",
    "    cam_bp.set_attribute(\"image_size_y\",str(300))\n",
    "    cam_bp.set_attribute(\"fov\",str(100))\n",
    "    cam_bp.set_attribute(\"sensor_tick\",str(SENSOR_TICK))\n",
    "    return cam_bp\n",
    "\n",
    "\n",
    "def get_lidar_blueprint(world, vehicle_id):\n",
    "    lidar_bp = world.get_blueprint_library().find('sensor.lidar.ray_cast')\n",
    "    lidar_bp.set_attribute('sensor_tick', str(SENSOR_TICK))\n",
    "    lidar_bp.set_attribute('channels', '64')\n",
    "    lidar_bp.set_attribute('points_per_second', '1120000')\n",
    "    lidar_bp.set_attribute('upper_fov', '30')\n",
    "    lidar_bp.set_attribute('range', '100')\n",
    "    lidar_bp.set_attribute('rotation_frequency', '20')\n",
    "    return lidar_bp\n",
    "\n",
    "camera_init_trans = carla.Transform(carla.Location(z=2.3))\n",
    "lidar_init_trans = carla.Transform(carla.Location(z=3.0))"
   ]
  },
  {
   "cell_type": "code",
   "execution_count": 11,
   "id": "3a216437",
   "metadata": {},
   "outputs": [],
   "source": [
    "# cria camera e 'anexa' ao carro\n",
    "camera_bp = get_cam_blueprint(world, vehicle.id)\n",
    "camera = world.spawn_actor(camera_bp, camera_init_trans, attach_to=vehicle)\n",
    "camera.listen(lambda image: image.save_to_disk(f\"sensors/camera/vehicle-id-{vehicle.id}-frame-{image.frame}.png\"))\n",
    "\n",
    "# cria lidar e 'anexa' ao carro\n",
    "lidar_bp = get_lidar_blueprint(world, vehicle.id)\n",
    "lidar = world.spawn_actor(lidar_bp, lidar_init_trans, attach_to=vehicle)\n",
    "lidar.listen(lambda data: data.save_to_disk(f'sensors/lidar/vehicle-id-{vehicle.id}-frame-{data.frame}.ply'))\n",
    "\n",
    "# adiciona ao Traffic manager\n",
    "vehicle.set_autopilot(True)"
   ]
  },
  {
   "cell_type": "code",
   "execution_count": null,
   "id": "44579b9b",
   "metadata": {},
   "outputs": [],
   "source": [
    "# Faz o spectator seguir o carro\n",
    "spectator = world.get_spectator()\n",
    "while True:\n",
    "    transform = camera.get_transform()\n",
    "    transform.location.z += 2.0\n",
    "    spectator.set_transform(transform)\n",
    "    time.sleep(0.0002)"
   ]
  },
  {
   "cell_type": "code",
   "execution_count": 17,
   "id": "8111472a",
   "metadata": {},
   "outputs": [],
   "source": [
    "# Remove o carro da simulação\n",
    "vehicle.destroy()"
   ]
  },
  {
   "cell_type": "markdown",
   "id": "5f8701b8",
   "metadata": {},
   "source": [
    "### add a lot of vehicles"
   ]
  },
  {
   "cell_type": "code",
   "execution_count": 13,
   "id": "e1a6f729",
   "metadata": {},
   "outputs": [],
   "source": [
    "# Get the map's spawn points\n",
    "spawn_points = world.get_map().get_spawn_points()\n",
    "\n",
    "vehicle_num = 100\n",
    "\n",
    "# add vehicle_num number of vehicles at random spawn_points\n",
    "for i in range(vehicle_num):\n",
    "    world.try_spawn_actor(list(vehicle_blueprints)[38], random.choice(spawn_points))\n",
    "    #world.try_spawn_actor(random.choice(vehicle_blueprints), random.choice(spawn_points))"
   ]
  },
  {
   "cell_type": "code",
   "execution_count": 14,
   "id": "c154b407",
   "metadata": {},
   "outputs": [],
   "source": [
    "# spawned_vehicles = world.get_actors().filter('*vehicle*')\n",
    "spawned_vehicles = world.get_actors().filter('*cooper_s*')"
   ]
  },
  {
   "cell_type": "code",
   "execution_count": 15,
   "id": "a4be696c",
   "metadata": {},
   "outputs": [
    {
     "name": "stdout",
     "output_type": "stream",
     "text": [
      "Actor(id=50, type=vehicle.mini.cooper_s_2021)\n",
      "Actor(id=51, type=vehicle.mini.cooper_s_2021)\n",
      "Actor(id=52, type=vehicle.mini.cooper_s_2021)\n",
      "Actor(id=53, type=vehicle.mini.cooper_s_2021)\n",
      "Actor(id=54, type=vehicle.mini.cooper_s_2021)\n",
      "Actor(id=55, type=vehicle.mini.cooper_s_2021)\n",
      "Actor(id=56, type=vehicle.mini.cooper_s_2021)\n",
      "Actor(id=57, type=vehicle.mini.cooper_s_2021)\n",
      "Actor(id=58, type=vehicle.mini.cooper_s_2021)\n",
      "Actor(id=59, type=vehicle.mini.cooper_s_2021)\n",
      "Actor(id=60, type=vehicle.mini.cooper_s_2021)\n",
      "Actor(id=61, type=vehicle.mini.cooper_s_2021)\n",
      "Actor(id=62, type=vehicle.mini.cooper_s_2021)\n",
      "Actor(id=63, type=vehicle.mini.cooper_s_2021)\n",
      "Actor(id=64, type=vehicle.mini.cooper_s_2021)\n",
      "Actor(id=65, type=vehicle.mini.cooper_s_2021)\n",
      "Actor(id=66, type=vehicle.mini.cooper_s_2021)\n",
      "Actor(id=67, type=vehicle.mini.cooper_s_2021)\n",
      "Actor(id=68, type=vehicle.mini.cooper_s_2021)\n",
      "Actor(id=69, type=vehicle.mini.cooper_s_2021)\n",
      "Actor(id=70, type=vehicle.mini.cooper_s_2021)\n",
      "Actor(id=71, type=vehicle.mini.cooper_s_2021)\n",
      "Actor(id=72, type=vehicle.mini.cooper_s_2021)\n",
      "Actor(id=73, type=vehicle.mini.cooper_s_2021)\n",
      "Actor(id=74, type=vehicle.mini.cooper_s_2021)\n",
      "Actor(id=75, type=vehicle.mini.cooper_s_2021)\n",
      "Actor(id=76, type=vehicle.mini.cooper_s_2021)\n",
      "Actor(id=77, type=vehicle.mini.cooper_s_2021)\n",
      "Actor(id=78, type=vehicle.mini.cooper_s_2021)\n",
      "Actor(id=79, type=vehicle.mini.cooper_s_2021)\n",
      "Actor(id=80, type=vehicle.mini.cooper_s_2021)\n",
      "Actor(id=81, type=vehicle.mini.cooper_s_2021)\n",
      "Actor(id=82, type=vehicle.mini.cooper_s_2021)\n",
      "Actor(id=83, type=vehicle.mini.cooper_s_2021)\n",
      "Actor(id=84, type=vehicle.mini.cooper_s_2021)\n",
      "Actor(id=85, type=vehicle.mini.cooper_s_2021)\n",
      "Actor(id=86, type=vehicle.mini.cooper_s_2021)\n",
      "Actor(id=87, type=vehicle.mini.cooper_s_2021)\n",
      "Actor(id=88, type=vehicle.mini.cooper_s_2021)\n",
      "Actor(id=89, type=vehicle.mini.cooper_s_2021)\n",
      "Actor(id=90, type=vehicle.mini.cooper_s_2021)\n",
      "Actor(id=91, type=vehicle.mini.cooper_s_2021)\n",
      "Actor(id=92, type=vehicle.mini.cooper_s_2021)\n",
      "Actor(id=93, type=vehicle.mini.cooper_s_2021)\n",
      "Actor(id=94, type=vehicle.mini.cooper_s_2021)\n",
      "Actor(id=95, type=vehicle.mini.cooper_s_2021)\n",
      "Actor(id=96, type=vehicle.mini.cooper_s_2021)\n",
      "Actor(id=97, type=vehicle.mini.cooper_s_2021)\n",
      "Actor(id=98, type=vehicle.mini.cooper_s_2021)\n",
      "Actor(id=99, type=vehicle.mini.cooper_s_2021)\n",
      "Actor(id=100, type=vehicle.mini.cooper_s_2021)\n",
      "Actor(id=101, type=vehicle.mini.cooper_s_2021)\n",
      "Actor(id=102, type=vehicle.mini.cooper_s_2021)\n",
      "Actor(id=103, type=vehicle.mini.cooper_s_2021)\n",
      "Actor(id=104, type=vehicle.mini.cooper_s_2021)\n",
      "Actor(id=105, type=vehicle.mini.cooper_s_2021)\n",
      "Actor(id=106, type=vehicle.mini.cooper_s_2021)\n",
      "Actor(id=107, type=vehicle.mini.cooper_s_2021)\n",
      "Actor(id=108, type=vehicle.mini.cooper_s_2021)\n",
      "Actor(id=109, type=vehicle.mini.cooper_s_2021)\n",
      "Actor(id=110, type=vehicle.mini.cooper_s_2021)\n",
      "Actor(id=111, type=vehicle.mini.cooper_s_2021)\n",
      "Actor(id=112, type=vehicle.mini.cooper_s_2021)\n",
      "Actor(id=113, type=vehicle.mini.cooper_s_2021)\n",
      "Actor(id=114, type=vehicle.mini.cooper_s_2021)\n",
      "Actor(id=115, type=vehicle.mini.cooper_s_2021)\n",
      "Actor(id=116, type=vehicle.mini.cooper_s_2021)\n",
      "Actor(id=117, type=vehicle.mini.cooper_s_2021)\n",
      "Actor(id=118, type=vehicle.mini.cooper_s_2021)\n"
     ]
    }
   ],
   "source": [
    "for random_vehicle in spawned_vehicles:\n",
    "    print(random_vehicle)\n",
    "    # adiciona carros ao Traffic manager\n",
    "    random_vehicle.set_autopilot(True)"
   ]
  },
  {
   "cell_type": "code",
   "execution_count": 4,
   "id": "a4e13c11",
   "metadata": {},
   "outputs": [],
   "source": [
    "for random_vehicle in spawned_vehicles:\n",
    "    random_vehicle.destroy()"
   ]
  },
  {
   "cell_type": "code",
   "execution_count": null,
   "id": "a8d808ba",
   "metadata": {},
   "outputs": [],
   "source": []
  }
 ],
 "metadata": {
  "kernelspec": {
   "display_name": "Python 3 (ipykernel)",
   "language": "python",
   "name": "python3"
  },
  "language_info": {
   "codemirror_mode": {
    "name": "ipython",
    "version": 3
   },
   "file_extension": ".py",
   "mimetype": "text/x-python",
   "name": "python",
   "nbconvert_exporter": "python",
   "pygments_lexer": "ipython3",
   "version": "3.7.9"
  }
 },
 "nbformat": 4,
 "nbformat_minor": 5
}
